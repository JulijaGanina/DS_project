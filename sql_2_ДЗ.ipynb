{
 "cells": [
  {
   "cell_type": "code",
   "execution_count": 1,
   "metadata": {},
   "outputs": [],
   "source": [
    "import sqlite3\n",
    "import pandas as pd"
   ]
  },
  {
   "cell_type": "code",
   "execution_count": 2,
   "metadata": {},
   "outputs": [],
   "source": [
    "con = sqlite3.connect(\":memory:\")\n",
    "cur = con.cursor()"
   ]
  },
  {
   "cell_type": "markdown",
   "metadata": {},
   "source": [
    "https://www.cs.toronto.edu/~delve/data/boston/bostonDetail.html"
   ]
  },
  {
   "cell_type": "code",
   "execution_count": 3,
   "metadata": {},
   "outputs": [],
   "source": [
    "link = 'https://raw.githubusercontent.com/eric-bunch/boston_housing/master/boston.csv'"
   ]
  },
  {
   "cell_type": "code",
   "execution_count": 4,
   "metadata": {},
   "outputs": [],
   "source": [
    "data = pd.read_csv(link)\n",
    "data.rename(columns = {'MDEV':'MEDV'}, inplace=True)"
   ]
  },
  {
   "cell_type": "code",
   "execution_count": 5,
   "metadata": {},
   "outputs": [
    {
     "data": {
      "text/plain": [
       "506"
      ]
     },
     "execution_count": 5,
     "metadata": {},
     "output_type": "execute_result"
    }
   ],
   "source": [
    "data.to_sql(\"boston\", con, index=False, if_exists=\"replace\")"
   ]
  },
  {
   "cell_type": "code",
   "execution_count": 6,
   "metadata": {
    "scrolled": true
   },
   "outputs": [
    {
     "data": {
      "text/html": [
       "<div>\n",
       "<style scoped>\n",
       "    .dataframe tbody tr th:only-of-type {\n",
       "        vertical-align: middle;\n",
       "    }\n",
       "\n",
       "    .dataframe tbody tr th {\n",
       "        vertical-align: top;\n",
       "    }\n",
       "\n",
       "    .dataframe thead th {\n",
       "        text-align: right;\n",
       "    }\n",
       "</style>\n",
       "<table border=\"1\" class=\"dataframe\">\n",
       "  <thead>\n",
       "    <tr style=\"text-align: right;\">\n",
       "      <th></th>\n",
       "      <th>CRIM</th>\n",
       "      <th>ZN</th>\n",
       "      <th>INDUS</th>\n",
       "      <th>CHAS</th>\n",
       "      <th>NOX</th>\n",
       "      <th>RM</th>\n",
       "      <th>AGE</th>\n",
       "      <th>DIS</th>\n",
       "      <th>RAD</th>\n",
       "      <th>TAX</th>\n",
       "      <th>PTRATIO</th>\n",
       "      <th>B</th>\n",
       "      <th>LSTAT</th>\n",
       "      <th>MEDV</th>\n",
       "    </tr>\n",
       "  </thead>\n",
       "  <tbody>\n",
       "    <tr>\n",
       "      <th>0</th>\n",
       "      <td>0.00632</td>\n",
       "      <td>18.0</td>\n",
       "      <td>2.31</td>\n",
       "      <td>0.0</td>\n",
       "      <td>0.538</td>\n",
       "      <td>6.575</td>\n",
       "      <td>65.2</td>\n",
       "      <td>4.0900</td>\n",
       "      <td>1.0</td>\n",
       "      <td>296.0</td>\n",
       "      <td>15.3</td>\n",
       "      <td>396.90</td>\n",
       "      <td>4.98</td>\n",
       "      <td>24.0</td>\n",
       "    </tr>\n",
       "    <tr>\n",
       "      <th>1</th>\n",
       "      <td>0.02731</td>\n",
       "      <td>0.0</td>\n",
       "      <td>7.07</td>\n",
       "      <td>0.0</td>\n",
       "      <td>0.469</td>\n",
       "      <td>6.421</td>\n",
       "      <td>78.9</td>\n",
       "      <td>4.9671</td>\n",
       "      <td>2.0</td>\n",
       "      <td>242.0</td>\n",
       "      <td>17.8</td>\n",
       "      <td>396.90</td>\n",
       "      <td>9.14</td>\n",
       "      <td>21.6</td>\n",
       "    </tr>\n",
       "    <tr>\n",
       "      <th>2</th>\n",
       "      <td>0.02729</td>\n",
       "      <td>0.0</td>\n",
       "      <td>7.07</td>\n",
       "      <td>0.0</td>\n",
       "      <td>0.469</td>\n",
       "      <td>7.185</td>\n",
       "      <td>61.1</td>\n",
       "      <td>4.9671</td>\n",
       "      <td>2.0</td>\n",
       "      <td>242.0</td>\n",
       "      <td>17.8</td>\n",
       "      <td>392.83</td>\n",
       "      <td>4.03</td>\n",
       "      <td>34.7</td>\n",
       "    </tr>\n",
       "    <tr>\n",
       "      <th>3</th>\n",
       "      <td>0.03237</td>\n",
       "      <td>0.0</td>\n",
       "      <td>2.18</td>\n",
       "      <td>0.0</td>\n",
       "      <td>0.458</td>\n",
       "      <td>6.998</td>\n",
       "      <td>45.8</td>\n",
       "      <td>6.0622</td>\n",
       "      <td>3.0</td>\n",
       "      <td>222.0</td>\n",
       "      <td>18.7</td>\n",
       "      <td>394.63</td>\n",
       "      <td>2.94</td>\n",
       "      <td>33.4</td>\n",
       "    </tr>\n",
       "    <tr>\n",
       "      <th>4</th>\n",
       "      <td>0.06905</td>\n",
       "      <td>0.0</td>\n",
       "      <td>2.18</td>\n",
       "      <td>0.0</td>\n",
       "      <td>0.458</td>\n",
       "      <td>7.147</td>\n",
       "      <td>54.2</td>\n",
       "      <td>6.0622</td>\n",
       "      <td>3.0</td>\n",
       "      <td>222.0</td>\n",
       "      <td>18.7</td>\n",
       "      <td>396.90</td>\n",
       "      <td>5.33</td>\n",
       "      <td>36.2</td>\n",
       "    </tr>\n",
       "  </tbody>\n",
       "</table>\n",
       "</div>"
      ],
      "text/plain": [
       "      CRIM    ZN  INDUS  CHAS    NOX     RM   AGE     DIS  RAD    TAX  \\\n",
       "0  0.00632  18.0   2.31   0.0  0.538  6.575  65.2  4.0900  1.0  296.0   \n",
       "1  0.02731   0.0   7.07   0.0  0.469  6.421  78.9  4.9671  2.0  242.0   \n",
       "2  0.02729   0.0   7.07   0.0  0.469  7.185  61.1  4.9671  2.0  242.0   \n",
       "3  0.03237   0.0   2.18   0.0  0.458  6.998  45.8  6.0622  3.0  222.0   \n",
       "4  0.06905   0.0   2.18   0.0  0.458  7.147  54.2  6.0622  3.0  222.0   \n",
       "\n",
       "   PTRATIO       B  LSTAT  MEDV  \n",
       "0     15.3  396.90   4.98  24.0  \n",
       "1     17.8  396.90   9.14  21.6  \n",
       "2     17.8  392.83   4.03  34.7  \n",
       "3     18.7  394.63   2.94  33.4  \n",
       "4     18.7  396.90   5.33  36.2  "
      ]
     },
     "execution_count": 6,
     "metadata": {},
     "output_type": "execute_result"
    }
   ],
   "source": [
    "pd.read_sql(\n",
    "    \"\"\"\n",
    "    SELECT * FROM boston\n",
    "    limit 5\n",
    "    \"\"\",\n",
    "    con,\n",
    ")"
   ]
  },
  {
   "cell_type": "markdown",
   "metadata": {},
   "source": [
    "CRIM - уровень преступности на душу населения\n",
    "ZN - доля земель под жилую застройку зонирована под участки площадью более 25 000 кв. футов.\n",
    "INDUS - доля акров неторгового бизнеса на город.\n",
    "CHAS - 1, если граничит с рекой, 0 иначе\n",
    "NOX - концентрация оксидов азота (частей на 10 миллионов)\n",
    "RM - среднее количество комнат в квартире\n",
    "AGE - доля жилых домов, построенных до 1940 г.\n",
    "DIS - взвешенные расстояния до пяти центров занятости Бостона\n",
    "RAD - индекс доступности к радиальным магистралям\n",
    "TAX - полная ставка налога на имущество за 10 000 долларов США\n",
    "PTRATIO - соотношение учеников и учителей по городам\n",
    "B - 1000(Bk - 0.63)^2, где Bk доля чернокожих людей по городам\n",
    "LSTAT - % более низкого статуса населения\n",
    "MEDV - Средняя стоимость домов в 1000 долларов."
   ]
  },
  {
   "cell_type": "markdown",
   "metadata": {},
   "source": [
    "1. Выведите количество пустых значений по колонкам CRIM, ZN, INDUS, CHAS, NOX (название колонки, кол-во пустых значений)"
   ]
  },
  {
   "cell_type": "code",
   "execution_count": 24,
   "metadata": {},
   "outputs": [
    {
     "data": {
      "text/html": [
       "<div>\n",
       "<style scoped>\n",
       "    .dataframe tbody tr th:only-of-type {\n",
       "        vertical-align: middle;\n",
       "    }\n",
       "\n",
       "    .dataframe tbody tr th {\n",
       "        vertical-align: top;\n",
       "    }\n",
       "\n",
       "    .dataframe thead th {\n",
       "        text-align: right;\n",
       "    }\n",
       "</style>\n",
       "<table border=\"1\" class=\"dataframe\">\n",
       "  <thead>\n",
       "    <tr style=\"text-align: right;\">\n",
       "      <th></th>\n",
       "      <th>CRIM_NULL</th>\n",
       "      <th>ZN_NULL</th>\n",
       "      <th>INDUS_NULL</th>\n",
       "      <th>CHAS_NULL</th>\n",
       "      <th>NOX_NULL</th>\n",
       "    </tr>\n",
       "  </thead>\n",
       "  <tbody>\n",
       "    <tr>\n",
       "      <th>0</th>\n",
       "      <td>0</td>\n",
       "      <td>0</td>\n",
       "      <td>0</td>\n",
       "      <td>0</td>\n",
       "      <td>0</td>\n",
       "    </tr>\n",
       "  </tbody>\n",
       "</table>\n",
       "</div>"
      ],
      "text/plain": [
       "   CRIM_NULL  ZN_NULL  INDUS_NULL  CHAS_NULL  NOX_NULL\n",
       "0          0        0           0          0         0"
      ]
     },
     "execution_count": 24,
     "metadata": {},
     "output_type": "execute_result"
    }
   ],
   "source": [
    "pd.read_sql(\n",
    "    \"\"\"\n",
    "    SELECT SUM(CRIM IS NULL) CRIM_NULL,\n",
    "       SUM(ZN IS NULL) ZN_NULL,\n",
    "       SUM(INDUS IS NULL) INDUS_NULL,\n",
    "       SUM(CHAS IS NULL) CHAS_NULL,\n",
    "       SUM(NOX IS NULL) NOX_NULL\n",
    "    FROM boston\n",
    "   \"\"\",\n",
    "    con,\n",
    ")"
   ]
  },
  {
   "cell_type": "markdown",
   "metadata": {},
   "source": [
    "2. Выведите количество уникальных значений по колонокам CRIM, ZN, INDUS, CHAS, NOX (название колонки, кол-во уникальных значений)"
   ]
  },
  {
   "cell_type": "code",
   "execution_count": 25,
   "metadata": {},
   "outputs": [
    {
     "data": {
      "text/html": [
       "<div>\n",
       "<style scoped>\n",
       "    .dataframe tbody tr th:only-of-type {\n",
       "        vertical-align: middle;\n",
       "    }\n",
       "\n",
       "    .dataframe tbody tr th {\n",
       "        vertical-align: top;\n",
       "    }\n",
       "\n",
       "    .dataframe thead th {\n",
       "        text-align: right;\n",
       "    }\n",
       "</style>\n",
       "<table border=\"1\" class=\"dataframe\">\n",
       "  <thead>\n",
       "    <tr style=\"text-align: right;\">\n",
       "      <th></th>\n",
       "      <th>CRIM</th>\n",
       "      <th>ZN</th>\n",
       "      <th>INDUS</th>\n",
       "      <th>CHAS</th>\n",
       "      <th>NOX</th>\n",
       "    </tr>\n",
       "  </thead>\n",
       "  <tbody>\n",
       "    <tr>\n",
       "      <th>0</th>\n",
       "      <td>504</td>\n",
       "      <td>26</td>\n",
       "      <td>76</td>\n",
       "      <td>2</td>\n",
       "      <td>81</td>\n",
       "    </tr>\n",
       "  </tbody>\n",
       "</table>\n",
       "</div>"
      ],
      "text/plain": [
       "   CRIM  ZN  INDUS  CHAS  NOX\n",
       "0   504  26     76     2   81"
      ]
     },
     "execution_count": 25,
     "metadata": {},
     "output_type": "execute_result"
    }
   ],
   "source": [
    "pd.read_sql(\n",
    "    \"\"\"\n",
    "    SELECT COUNT(DISTINCT CRIM) CRIM,\n",
    "        COUNT(DISTINCT ZN) ZN,\n",
    "        COUNT(DISTINCT INDUS) INDUS,\n",
    "        COUNT(DISTINCT CHAS) CHAS,\n",
    "        COUNT(DISTINCT NOX) NOX\n",
    "    FROM boston\n",
    "\n",
    "    \"\"\",\n",
    "    con,\n",
    ")\n",
    "\n"
   ]
  },
  {
   "cell_type": "markdown",
   "metadata": {},
   "source": [
    "3. Выведите колонки, у которых медиана равна минимальному значению (название колонки) выбирая из CRIM, ZN, INDUS, CHAS, NOX.\n",
    "Напишите какой вывод можно сделать по данным в этих колонках"
   ]
  },
  {
   "cell_type": "code",
   "execution_count": 9,
   "metadata": {},
   "outputs": [
    {
     "name": "stdout",
     "output_type": "stream",
     "text": [
      "      CRIM   ZN  INDUS  CHAS    NOX\n",
      "0  0.25915  0.0   9.69   0.0  0.538\n"
     ]
    }
   ],
   "source": [
    "a= pd.read_sql(\n",
    "    \"\"\"\n",
    "select * from \n",
    "((SELECT CRIM FROM boston ORDER BY CRIM LIMIT 1 OFFSET (select COUNT(CRIM)/2  FROM boston )),\n",
    "(SELECT ZN FROM boston ORDER BY ZN LIMIT 1 OFFSET (select COUNT(ZN)/2  FROM boston )),\n",
    "(SELECT INDUS FROM boston ORDER BY INDUS LIMIT 1 OFFSET (select COUNT(INDUS)/2  FROM boston )),\n",
    "(SELECT CHAS FROM boston ORDER BY CHAS LIMIT 1 OFFSET (select COUNT(CHAS)/2  FROM boston )),\n",
    "(SELECT NOX FROM boston ORDER BY NOX LIMIT 1 OFFSET (select COUNT(NOX)/2  FROM boston )));\n",
    "    \"\"\",\n",
    "    con,\n",
    ")\n",
    "print(a)\n"
   ]
  },
  {
   "cell_type": "code",
   "execution_count": 10,
   "metadata": {},
   "outputs": [
    {
     "name": "stdout",
     "output_type": "stream",
     "text": [
      "   MIN(CRIM)  MIN(ZN)  MIN(INDUS)  MIN(CHAS)  MIN(NOX)\n",
      "0    0.00632      0.0        0.46        0.0     0.385\n"
     ]
    }
   ],
   "source": [
    "b = pd.read_sql(\n",
    "    \"\"\"\n",
    "SELECT MIN(CRIM),\n",
    "MIN(ZN),\n",
    "MIN(INDUS),\n",
    "MIN(CHAS),\n",
    "MIN(NOX)\n",
    " FROM boston\n",
    " \n",
    "    \"\"\",\n",
    "    con,\n",
    ")\n",
    "print(b)"
   ]
  },
  {
   "cell_type": "code",
   "execution_count": 12,
   "metadata": {},
   "outputs": [
    {
     "name": "stdout",
     "output_type": "stream",
     "text": [
      "ZN\n",
      "CHAS\n"
     ]
    }
   ],
   "source": [
    "i = 0\n",
    "cols = a.columns\n",
    "for i in range(4):\n",
    "    c = a.iat[0,i]-b.iat[0,i]\n",
    "    if c == 0:\n",
    "        print(cols[i])\n",
    "    i+=1\n",
    "\n"
   ]
  },
  {
   "cell_type": "markdown",
   "metadata": {},
   "source": [
    "4. Выведите разницу между средним количеством комнат(RM) в домах с самой дорогой стоимостью(MEDV) и 25 самыми дешевыми домами. \n",
    "Аналогично по 50, 100, 200, 300 самыми дешевыми домами. (кол-во домов(25,50,100,200,300), среднее кол-во комнат в них, среднее кол-во комнат в самых дорогих, разница).\n",
    "Напишите влияет ли кол-во комнат на стоимость и как сильно."
   ]
  },
  {
   "cell_type": "code",
   "execution_count": 70,
   "metadata": {},
   "outputs": [
    {
     "name": "stdout",
     "output_type": "stream",
     "text": [
      "Количество комнат в самой дорогой недвижимости: 7.48, по 25 домам с минимальной ценой: 5.75, разница: 1.73\n",
      "Количество комнат в самой дорогой недвижимости: 7.48, по 50 домам с минимальной ценой: 5.75, разница: 1.73\n",
      "Количество комнат в самой дорогой недвижимости: 7.48, по 100 домам с минимальной ценой: 5.89, разница: 1.59\n",
      "Количество комнат в самой дорогой недвижимости: 7.48, по 200 домам с минимальной ценой: 5.91, разница: 1.57\n",
      "Количество комнат в самой дорогой недвижимости: 7.48, по 300 домам с минимальной ценой: 5.97, разница: 1.51\n"
     ]
    }
   ],
   "source": [
    "num_houses = [25, 50, 100, 200, 300]\n",
    "\n",
    "def room_max_price_house():\n",
    "    a = pd.read_sql(\n",
    "            \"\"\"\n",
    "        SELECT AVG(RM) as roomAvg FROM boston WHERE MEDV = (SELECT MAX(MEDV) from boston)\n",
    "                \n",
    "            \"\"\",\n",
    "            con,\n",
    "        )\n",
    "    return round(a.iat[0,0],2)\n",
    "\n",
    "def room_meed_price_house(n):        \n",
    "    b = f'SELECT AVG(RM) as roomAvg FROM (SELECT RM FROM BOSTON order by MEDV asc limit {n})'\n",
    "    return round(pd.read_sql(b, con).iat[0,0], 2)\n",
    "\n",
    "    \n",
    "i=0\n",
    "for i in num_houses:\n",
    "    print(f'Количество комнат в самой дорогой недвижимости: {room_max_price_house()}, по {i} домам с минимальной ценой: {room_meed_price_house(i)}, разница: {round(room_max_price_house()-room_meed_price_house(i),2)}') \n",
    "    i+=1"
   ]
  },
  {
   "cell_type": "markdown",
   "metadata": {},
   "source": [
    "Среднее количество комнат в самой дорогой недвижимости составило 7,48. По домам с минимальной стоимостью количество комнат варьировалось от 5,75 до 5,97.\n",
    "Т.о. в дорогой недвидимости количество комнат в среднем выше - на 1,51 - 1,73 комнаты.\n",
    "При этом в сравнении с выборкой от 25 до 300 домов разница по минимальным ценам составляла незначительные показатели не более (1,73-1,51) 0,22."
   ]
  },
  {
   "cell_type": "markdown",
   "metadata": {},
   "source": [
    "5. Выведите ранги значений колонки LSTAT(процент населения с более низким статусом) в домах с самой дорогой стоимостью (значение LSTAT, стоимость, ранг). Напишите какой вывод можно сделать по этим данным."
   ]
  },
  {
   "cell_type": "code",
   "execution_count": 74,
   "metadata": {},
   "outputs": [
    {
     "data": {
      "text/html": [
       "<div>\n",
       "<style scoped>\n",
       "    .dataframe tbody tr th:only-of-type {\n",
       "        vertical-align: middle;\n",
       "    }\n",
       "\n",
       "    .dataframe tbody tr th {\n",
       "        vertical-align: top;\n",
       "    }\n",
       "\n",
       "    .dataframe thead th {\n",
       "        text-align: right;\n",
       "    }\n",
       "</style>\n",
       "<table border=\"1\" class=\"dataframe\">\n",
       "  <thead>\n",
       "    <tr style=\"text-align: right;\">\n",
       "      <th></th>\n",
       "      <th>LSTAT</th>\n",
       "      <th>rank</th>\n",
       "    </tr>\n",
       "  </thead>\n",
       "  <tbody>\n",
       "    <tr>\n",
       "      <th>0</th>\n",
       "      <td>1.73</td>\n",
       "      <td>1</td>\n",
       "    </tr>\n",
       "    <tr>\n",
       "      <th>1</th>\n",
       "      <td>1.92</td>\n",
       "      <td>2</td>\n",
       "    </tr>\n",
       "    <tr>\n",
       "      <th>2</th>\n",
       "      <td>2.88</td>\n",
       "      <td>6</td>\n",
       "    </tr>\n",
       "    <tr>\n",
       "      <th>3</th>\n",
       "      <td>2.96</td>\n",
       "      <td>8</td>\n",
       "    </tr>\n",
       "    <tr>\n",
       "      <th>4</th>\n",
       "      <td>2.97</td>\n",
       "      <td>9</td>\n",
       "    </tr>\n",
       "    <tr>\n",
       "      <th>5</th>\n",
       "      <td>3.16</td>\n",
       "      <td>15</td>\n",
       "    </tr>\n",
       "    <tr>\n",
       "      <th>6</th>\n",
       "      <td>3.26</td>\n",
       "      <td>17</td>\n",
       "    </tr>\n",
       "    <tr>\n",
       "      <th>7</th>\n",
       "      <td>3.32</td>\n",
       "      <td>18</td>\n",
       "    </tr>\n",
       "    <tr>\n",
       "      <th>8</th>\n",
       "      <td>3.70</td>\n",
       "      <td>26</td>\n",
       "    </tr>\n",
       "    <tr>\n",
       "      <th>9</th>\n",
       "      <td>3.73</td>\n",
       "      <td>27</td>\n",
       "    </tr>\n",
       "    <tr>\n",
       "      <th>10</th>\n",
       "      <td>4.45</td>\n",
       "      <td>41</td>\n",
       "    </tr>\n",
       "    <tr>\n",
       "      <th>11</th>\n",
       "      <td>4.63</td>\n",
       "      <td>50</td>\n",
       "    </tr>\n",
       "    <tr>\n",
       "      <th>12</th>\n",
       "      <td>5.12</td>\n",
       "      <td>67</td>\n",
       "    </tr>\n",
       "    <tr>\n",
       "      <th>13</th>\n",
       "      <td>7.44</td>\n",
       "      <td>141</td>\n",
       "    </tr>\n",
       "    <tr>\n",
       "      <th>14</th>\n",
       "      <td>8.88</td>\n",
       "      <td>181</td>\n",
       "    </tr>\n",
       "    <tr>\n",
       "      <th>15</th>\n",
       "      <td>9.53</td>\n",
       "      <td>203</td>\n",
       "    </tr>\n",
       "  </tbody>\n",
       "</table>\n",
       "</div>"
      ],
      "text/plain": [
       "    LSTAT  rank\n",
       "0    1.73     1\n",
       "1    1.92     2\n",
       "2    2.88     6\n",
       "3    2.96     8\n",
       "4    2.97     9\n",
       "5    3.16    15\n",
       "6    3.26    17\n",
       "7    3.32    18\n",
       "8    3.70    26\n",
       "9    3.73    27\n",
       "10   4.45    41\n",
       "11   4.63    50\n",
       "12   5.12    67\n",
       "13   7.44   141\n",
       "14   8.88   181\n",
       "15   9.53   203"
      ]
     },
     "execution_count": 74,
     "metadata": {},
     "output_type": "execute_result"
    }
   ],
   "source": [
    "pd.read_sql(\n",
    "    \"\"\"\n",
    "    SELECT LSTAT, rank FROM (\n",
    "    SELECT LSTAT, MEDV, RANK() OVER (order by LSTAT asc) as rank FROM boston)\n",
    "    WHERE MEDV = (SELECT MAX(MEDV) from boston)\n",
    "    \"\"\",\n",
    "    con,\n",
    ")"
   ]
  },
  {
   "cell_type": "markdown",
   "metadata": {},
   "source": [
    "Владельцами наиболее дорогой недвижимости являютсялюди с более высоким статусом."
   ]
  },
  {
   "cell_type": "markdown",
   "metadata": {},
   "source": [
    "6. Выведите среднюю стоимость домов граничащих с рекой(CHAS) и нет (граничит/не граничит, стоимость)"
   ]
  },
  {
   "cell_type": "code",
   "execution_count": 77,
   "metadata": {},
   "outputs": [
    {
     "data": {
      "text/html": [
       "<div>\n",
       "<style scoped>\n",
       "    .dataframe tbody tr th:only-of-type {\n",
       "        vertical-align: middle;\n",
       "    }\n",
       "\n",
       "    .dataframe tbody tr th {\n",
       "        vertical-align: top;\n",
       "    }\n",
       "\n",
       "    .dataframe thead th {\n",
       "        text-align: right;\n",
       "    }\n",
       "</style>\n",
       "<table border=\"1\" class=\"dataframe\">\n",
       "  <thead>\n",
       "    <tr style=\"text-align: right;\">\n",
       "      <th></th>\n",
       "      <th>RIVER</th>\n",
       "      <th>avg_price_houses</th>\n",
       "    </tr>\n",
       "  </thead>\n",
       "  <tbody>\n",
       "    <tr>\n",
       "      <th>0</th>\n",
       "      <td>0.0</td>\n",
       "      <td>22.09</td>\n",
       "    </tr>\n",
       "    <tr>\n",
       "      <th>1</th>\n",
       "      <td>1.0</td>\n",
       "      <td>28.44</td>\n",
       "    </tr>\n",
       "  </tbody>\n",
       "</table>\n",
       "</div>"
      ],
      "text/plain": [
       "   RIVER  avg_price_houses\n",
       "0    0.0             22.09\n",
       "1    1.0             28.44"
      ]
     },
     "execution_count": 77,
     "metadata": {},
     "output_type": "execute_result"
    }
   ],
   "source": [
    "pd.read_sql(\n",
    "    \"\"\"\n",
    "    SELECT CHAS as RIVER, round(AVG(MEDV),2) as avg_price_houses FROM boston\n",
    "    GROUP BY CHAS \n",
    "    \"\"\",\n",
    "    con,\n",
    ")\n",
    "\n"
   ]
  },
  {
   "cell_type": "markdown",
   "metadata": {},
   "source": [
    "7. Выведите все колонки, у которых среднее значение выше, когда дом граничит с рекой (название колонки) выбирая из CRIM, ZN, INDUS, CHAS, NOX. Напишите какой вывод можно сделать по этим данным."
   ]
  },
  {
   "cell_type": "code",
   "execution_count": 82,
   "metadata": {},
   "outputs": [
    {
     "name": "stdout",
     "output_type": "stream",
     "text": [
      "INDUS\n",
      "NOX\n"
     ]
    }
   ],
   "source": [
    "a = pd.read_sql(\n",
    "    \"\"\"\n",
    "    select CRIM, ZN, INDUS, NOX from(\n",
    "    select ((SELECT AVG(CRIM)   FROM boston WHERE CHAS = 1) - \n",
    "    (SELECT AVG(CRIM)   FROM boston WHERE CHAS = 0)) as CRIM\n",
    "    , ((SELECT AVG(ZN)   FROM boston WHERE CHAS = 1) - \n",
    "    (SELECT AVG(ZN)   FROM boston WHERE CHAS = 0)) as ZN\n",
    "    , ((SELECT AVG(INDUS)   FROM boston WHERE CHAS = 1) - \n",
    "    (SELECT AVG(INDUS)   FROM boston WHERE CHAS = 0)) as INDUS\n",
    "    , ((SELECT AVG(NOX)   FROM boston WHERE CHAS = 1) - \n",
    "    (SELECT AVG(NOX)   FROM boston WHERE CHAS = 0)) as NOX)\n",
    "    \"\"\",\n",
    "    con,\n",
    ")   \n",
    "\n",
    "i = 0\n",
    "cols = a.columns\n",
    "for i in range(4):\n",
    "    b = a.iat[0,i]\n",
    "    if b > 0:\n",
    "        print(cols[i])\n",
    "    i+=1"
   ]
  },
  {
   "cell_type": "markdown",
   "metadata": {},
   "source": [
    "Если дом граничит с рекой, то среднее значение выше по показателям: доля акров неторгового бизнеса на город и концентрация оксидов азота (частей на 10 миллионов).\n",
    "При этом обратная ситуация для таких показателей как уровень преступности на душу населения и доля земель под жилую застройку зонирована под участки площадью более 25 000 кв. футов."
   ]
  },
  {
   "cell_type": "markdown",
   "metadata": {},
   "source": [
    "8. Выведите значения долей промышленной застройки(INDUS), концентрации оксидов азота(NOX) и по их перцентилям - 10, 20 ... 100 ( перцетиль(10,20...100),значение INDUS, значение NOX). Напишите прослеживается между ними взаимосвязь"
   ]
  },
  {
   "cell_type": "code",
   "execution_count": 121,
   "metadata": {},
   "outputs": [
    {
     "name": "stdout",
     "output_type": "stream",
     "text": [
      "              NOX  INDUS\n",
      "percentile              \n",
      "1           0.426   2.89\n",
      "2           0.442   4.39\n",
      "3           0.472   5.96\n",
      "4           0.507   7.38\n",
      "5           0.538   9.69\n",
      "6           0.580  13.89\n",
      "7           0.609  18.10\n",
      "8           0.671  18.10\n",
      "9           0.713  19.58\n",
      "10          0.871  27.74\n"
     ]
    }
   ],
   "source": [
    "perc_NOX = pd.read_sql(\n",
    "        \"\"\"\n",
    "            SELECT percentile, MAX(NOX) as NOX\n",
    "            FROM (SELECT NOX, NTILE(10) OVER (ORDER BY NOX) AS percentile FROM boston)\n",
    "            GROUP BY percentile\n",
    "            \"\"\",\n",
    "        con\n",
    "    )\n",
    "\n",
    "perc_INDUS = pd.read_sql(\n",
    "    \"\"\"\n",
    "        SELECT percentile, MAX(INDUS) as INDUS\n",
    "        FROM (SELECT INDUS, NTILE(10) OVER (ORDER BY INDUS) AS percentile FROM boston)\n",
    "        GROUP BY percentile\n",
    "        \"\"\",\n",
    "        con\n",
    "    )\n",
    "perc_NOX_INDUS = perc_NOX.set_index('percentile').join(perc_INDUS.set_index('percentile')) \n",
    "     \n",
    "print(perc_NOX_INDUS) "
   ]
  },
  {
   "cell_type": "markdown",
   "metadata": {},
   "source": [
    "Взаимосвязь между показателями присутсвует: чем выше значения долей промышленной застройки (INDUS), тем выше концентрация оксидов азота(NOX)"
   ]
  }
 ],
 "metadata": {
  "kernelspec": {
   "display_name": "Python 3.10.7 64-bit (microsoft store)",
   "language": "python",
   "name": "python3"
  },
  "language_info": {
   "codemirror_mode": {
    "name": "ipython",
    "version": 3
   },
   "file_extension": ".py",
   "mimetype": "text/x-python",
   "name": "python",
   "nbconvert_exporter": "python",
   "pygments_lexer": "ipython3",
   "version": "3.10.7"
  },
  "vscode": {
   "interpreter": {
    "hash": "93146ef4776469700ab533a89da0ca34bdd9da1f5517f4ecade76b3c008c0ae1"
   }
  }
 },
 "nbformat": 4,
 "nbformat_minor": 4
}
